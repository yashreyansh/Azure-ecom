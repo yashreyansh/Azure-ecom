{
 "cells": [
  {
   "cell_type": "code",
   "execution_count": 0,
   "metadata": {
    "application/vnd.databricks.v1+cell": {
     "cellMetadata": {
      "byteLimit": 2048000,
      "rowLimit": 10000
     },
     "inputWidgets": {},
     "nuid": "8f161b15-7680-4bc4-9216-662d016cc1c0",
     "showTitle": false,
     "tableResultSettingsMap": {},
     "title": ""
    }
   },
   "outputs": [],
   "source": [
    "from pyspark.sql import SparkSession\n",
    "from pyspark.sql.functions import *\n",
    "from pyspark.sql.types import *"
   ]
  },
  {
   "cell_type": "code",
   "execution_count": 0,
   "metadata": {
    "application/vnd.databricks.v1+cell": {
     "cellMetadata": {
      "byteLimit": 2048000,
      "rowLimit": 10000
     },
     "inputWidgets": {},
     "nuid": "1b307de8-5bae-45a2-bc09-18f1a51747d0",
     "showTitle": false,
     "tableResultSettingsMap": {},
     "title": ""
    }
   },
   "outputs": [],
   "source": [
    "spark = SparkSession.builder.appName(\"ECommerceDataPipeline\").getOrCreate()"
   ]
  },
  {
   "cell_type": "code",
   "execution_count": 0,
   "metadata": {
    "application/vnd.databricks.v1+cell": {
     "cellMetadata": {
      "byteLimit": 2048000,
      "rowLimit": 10000
     },
     "inputWidgets": {},
     "nuid": "a9bb4f7d-e48d-4d6e-9ff9-b557c8c1342a",
     "showTitle": false,
     "tableResultSettingsMap": {},
     "title": ""
    }
   },
   "outputs": [],
   "source": [
    "# /mnt/delta/tables/bronze/users\n",
    "\n",
    "userDF = spark.read.format(\"delta\")\\\n",
    "    .load(\"/mnt/delta/tables/bronze/users\")\n"
   ]
  },
  {
   "cell_type": "code",
   "execution_count": 0,
   "metadata": {
    "application/vnd.databricks.v1+cell": {
     "cellMetadata": {
      "byteLimit": 2048000,
      "rowLimit": 10000
     },
     "inputWidgets": {},
     "nuid": "235c410c-ae98-4409-af83-6fc805339887",
     "showTitle": false,
     "tableResultSettingsMap": {},
     "title": ""
    }
   },
   "outputs": [
    {
     "output_type": "stream",
     "name": "stdout",
     "output_type": "stream",
     "text": [
      "+-----------+\n|countryCode|\n+-----------+\n|         US|\n|         DE|\n+-----------+\nonly showing top 2 rows\n\n"
     ]
    }
   ],
   "source": [
    "#normalise country code\n",
    "# userDF.select(col(\"countryCode\")).show(2)\n",
    "userDF = userDF.withColumn(\"countryCode\", upper(col(\"countryCode\")))\n",
    "userDF.select(col(\"countryCode\")).show(2)\n"
   ]
  },
  {
   "cell_type": "code",
   "execution_count": 0,
   "metadata": {
    "application/vnd.databricks.v1+cell": {
     "cellMetadata": {
      "byteLimit": 2048000,
      "rowLimit": 10000
     },
     "inputWidgets": {},
     "nuid": "f0080cb4-1f57-4cef-a599-437414777cfb",
     "showTitle": false,
     "tableResultSettingsMap": {},
     "title": ""
    }
   },
   "outputs": [],
   "source": [
    "userDF = userDF.withColumn(\"language\", upper(col(\"language\")))"
   ]
  },
  {
   "cell_type": "code",
   "execution_count": 0,
   "metadata": {
    "application/vnd.databricks.v1+cell": {
     "cellMetadata": {
      "byteLimit": 2048000,
      "rowLimit": 10000
     },
     "inputWidgets": {},
     "nuid": "0dea47ce-4a8c-408c-a902-cfafb8347d41",
     "showTitle": false,
     "tableResultSettingsMap": {},
     "title": ""
    }
   },
   "outputs": [
    {
     "output_type": "stream",
     "name": "stdout",
     "output_type": "stream",
     "text": [
      "+--------------------+----+----------+--------+-----------------+---------------+-------------------+--------------+------------+----------------+--------------+--------------+------+----------------+-------------+---------+-------------+---------+-----------------+------------------+---------+-----------------+----------------+-----------+-------------+\n|      identifierHash|type|   country|language|socialNbFollowers|socialNbFollows|socialProductsLiked|productsListed|productsSold|productsPassRate|productsWished|productsBought|gender|civilityGenderId|civilityTitle|hasAnyApp|hasAndroidApp|hasIosApp|hasProfilePicture|daysSinceLastLogin|seniority|seniorityAsMonths|seniorityAsYears|countryCode|language_full|\n+--------------------+----+----------+--------+-----------------+---------------+-------------------+--------------+------------+----------------+--------------+--------------+------+----------------+-------------+---------+-------------+---------+-----------------+------------------+---------+-----------------+----------------+-----------+-------------+\n|-7279641312655250028|user|Etats-Unis|      EN|                3|              8|                  0|             0|           0|             0.0|             0|             0|     F|               2|          mrs|    False|        False|    False|             True|               709|     3205|           106.83|             8.9|         US|      English|\n|-1456013578740053406|user| Allemagne|      DE|                3|              8|                  0|             0|           0|             0.0|             0|             0|     F|               2|          mrs|    False|        False|    False|             True|               709|     3205|           106.83|             8.9|         DE|       Others|\n+--------------------+----+----------+--------+-----------------+---------------+-------------------+--------------+------------+----------------+--------------+--------------+------+----------------+-------------+---------+-------------+---------+-----------------+------------------+---------+-----------------+----------------+-----------+-------------+\nonly showing top 2 rows\n\n"
     ]
    }
   ],
   "source": [
    "userDF = userDF.withColumn(\"language\", upper(col(\"language\")))\n",
    "userDF = userDF.withColumn(\"language_full\",\n",
    "                           expr(\"CASE WHEN language ='EN'\" +\"THEN 'English' WHEN language ='FR'\"+ \"THEN 'French' ELSE 'Others' END\"))\n",
    "userDF.show(2, truncate=True)"
   ]
  },
  {
   "cell_type": "code",
   "execution_count": 0,
   "metadata": {
    "application/vnd.databricks.v1+cell": {
     "cellMetadata": {
      "byteLimit": 2048000,
      "rowLimit": 10000
     },
     "inputWidgets": {},
     "nuid": "254c630d-64c0-4590-b669-ec021ffa6aa4",
     "showTitle": false,
     "tableResultSettingsMap": {},
     "title": ""
    }
   },
   "outputs": [
    {
     "output_type": "stream",
     "name": "stdout",
     "output_type": "stream",
     "text": [
      "+--------------------+----+----------+--------+-----------------+---------------+-------------------+--------------+------------+----------------+--------------+--------------+------+----------------+-------------+---------+-------------+---------+-----------------+------------------+---------+-----------------+----------------+-----------+-------------+\n|      identifierHash|type|   country|language|socialNbFollowers|socialNbFollows|socialProductsLiked|productsListed|productsSold|productsPassRate|productsWished|productsBought|gender|civilityGenderId|civilityTitle|hasAnyApp|hasAndroidApp|hasIosApp|hasProfilePicture|daysSinceLastLogin|seniority|seniorityAsMonths|seniorityAsYears|countryCode|language_full|\n+--------------------+----+----------+--------+-----------------+---------------+-------------------+--------------+------------+----------------+--------------+--------------+------+----------------+-------------+---------+-------------+---------+-----------------+------------------+---------+-----------------+----------------+-----------+-------------+\n|-7279641312655250028|user|Etats-Unis|      EN|                3|              8|                  0|             0|           0|             0.0|             0|             0|Female|               2|          mrs|    False|        False|    False|             True|               709|     3205|           106.83|             8.9|         US|      English|\n|-1456013578740053406|user| Allemagne|      DE|                3|              8|                  0|             0|           0|             0.0|             0|             0|Female|               2|          mrs|    False|        False|    False|             True|               709|     3205|           106.83|             8.9|         DE|       Others|\n+--------------------+----+----------+--------+-----------------+---------------+-------------------+--------------+------------+----------------+--------------+--------------+------+----------------+-------------+---------+-------------+---------+-----------------+------------------+---------+-----------------+----------------+-----------+-------------+\nonly showing top 2 rows\n\n"
     ]
    }
   ],
   "source": [
    "userDF = userDF.withColumn(\"gender\",\n",
    "                           when(col(\"gender\").startswith(\"M\"), 'Male')\n",
    "                           .when(col(\"gender\").contains(\"F\"),'Female')\n",
    "                           .otherwise(\"other\"))\n",
    "userDF.show(2)"
   ]
  },
  {
   "cell_type": "code",
   "execution_count": 0,
   "metadata": {
    "application/vnd.databricks.v1+cell": {
     "cellMetadata": {
      "byteLimit": 2048000,
      "rowLimit": 10000
     },
     "inputWidgets": {},
     "nuid": "242db379-a7a7-4400-bc39-c5fc68e7e70c",
     "showTitle": false,
     "tableResultSettingsMap": {},
     "title": ""
    }
   },
   "outputs": [
    {
     "output_type": "stream",
     "name": "stdout",
     "output_type": "stream",
     "text": [
      "+--------------------+----+----------+--------+-----------------+---------------+-------------------+--------------+------------+----------------+--------------+--------------+------+----------------+-------------+---------+-------------+---------+-----------------+------------------+---------+-----------------+----------------+-----------+-------------+-----------------+-----------------+\n|      identifierHash|type|   country|language|socialNbFollowers|socialNbFollows|socialProductsLiked|productsListed|productsSold|productsPassRate|productsWished|productsBought|gender|civilityGenderId|civilityTitle|hasAnyApp|hasAndroidApp|hasIosApp|hasProfilePicture|daysSinceLastLogin|seniority|seniorityAsMonths|seniorityAsYears|countryCode|language_full|account_age_years|account_age_group|\n+--------------------+----+----------+--------+-----------------+---------------+-------------------+--------------+------------+----------------+--------------+--------------+------+----------------+-------------+---------+-------------+---------+-----------------+------------------+---------+-----------------+----------------+-----------+-------------+-----------------+-----------------+\n|-7279641312655250028|user|Etats-Unis|      EN|                3|              8|                  0|             0|           0|             0.0|             0|             0|Female|               2|          mrs|    False|        False|    False|             True|               709|     3205|           106.83|             8.9|         US|      English|             8.78|               >3|\n|-1456013578740053406|user| Allemagne|      DE|                3|              8|                  0|             0|           0|             0.0|             0|             0|Female|               2|          mrs|    False|        False|    False|             True|               709|     3205|           106.83|             8.9|         DE|       Others|             8.78|               >3|\n+--------------------+----+----------+--------+-----------------+---------------+-------------------+--------------+------------+----------------+--------------+--------------+------+----------------+-------------+---------+-------------+---------+-----------------+------------------+---------+-----------------+----------------+-----------+-------------+-----------------+-----------------+\nonly showing top 2 rows\n\n"
     ]
    }
   ],
   "source": [
    "userDF = userDF.withColumn(\"account_age_years\", round(col(\"seniority\")/365,2))\n",
    "\n",
    "userDF = userDF.withColumn(\"account_age_group\",\n",
    "                           when(col(\"account_age_years\")<1, \"Baccha\")\n",
    "                           .when((col(\"account_age_years\")>=1) & (col(\"account_age_years\")<3), \"1-3\")\n",
    "                           .when(col(\"account_age_years\")>3,\">3\")\n",
    "                           .otherwise(\"Experienced\"))\n",
    "userDF = userDF.withColumn(\"account_age_group\",\n",
    "                           when(col(\"account_age_years\")<1, \"Baccha\")\n",
    "                           .when(   (col(\"account_age_years\")>=1) & (col(\"account_age_years\")<3)      , \"1-3\")\n",
    "                           .when(col(\"account_age_years\")>3,\">3\")\n",
    "                           .otherwise(\"Experienced\"))                           \n",
    "userDF.show(2)"
   ]
  },
  {
   "cell_type": "code",
   "execution_count": 0,
   "metadata": {
    "application/vnd.databricks.v1+cell": {
     "cellMetadata": {
      "byteLimit": 2048000,
      "rowLimit": 10000
     },
     "inputWidgets": {},
     "nuid": "958b6839-c521-4ee8-92ae-44e6d2800ad2",
     "showTitle": false,
     "tableResultSettingsMap": {},
     "title": ""
    }
   },
   "outputs": [
    {
     "output_type": "stream",
     "name": "stdout",
     "output_type": "stream",
     "text": [
      "+-------------+\n|civilityTitle|\n+-------------+\n|          mrs|\n|          mrs|\n|           mr|\n|          mrs|\n|           mr|\n+-------------+\nonly showing top 5 rows\n\n"
     ]
    }
   ],
   "source": [
    "userDF.select(col(\"civilityTitle\")).show(5)"
   ]
  },
  {
   "cell_type": "code",
   "execution_count": 0,
   "metadata": {
    "application/vnd.databricks.v1+cell": {
     "cellMetadata": {
      "byteLimit": 2048000,
      "rowLimit": 10000
     },
     "inputWidgets": {},
     "nuid": "af5bbbec-d31f-43c2-8a3f-5191e09f8d80",
     "showTitle": false,
     "tableResultSettingsMap": {},
     "title": ""
    }
   },
   "outputs": [],
   "source": [
    "userDF = userDF.withColumn(\"current year\", year(current_date()))"
   ]
  },
  {
   "cell_type": "code",
   "execution_count": 0,
   "metadata": {
    "application/vnd.databricks.v1+cell": {
     "cellMetadata": {
      "byteLimit": 2048000,
      "rowLimit": 10000
     },
     "inputWidgets": {},
     "nuid": "39d627c9-83ad-4b5d-bd94-8964546b6a1f",
     "showTitle": false,
     "tableResultSettingsMap": {},
     "title": ""
    }
   },
   "outputs": [
    {
     "output_type": "stream",
     "name": "stdout",
     "output_type": "stream",
     "text": [
      "+-------------------+\n|civilityTitle_clean|\n+-------------------+\n|                 Ms|\n|                 Ms|\n|                 mr|\n|                 Ms|\n+-------------------+\nonly showing top 4 rows\n\n"
     ]
    }
   ],
   "source": [
    "userDF = userDF.withColumn(\"civilityTitle_clean\",\n",
    "                           regexp_replace(\"civilityTitle\", \"(Mme|mrs|ms)\", \"Ms\"))\n",
    "userDF.select(col(\"civilityTitle_clean\")).show(4)"
   ]
  },
  {
   "cell_type": "code",
   "execution_count": 0,
   "metadata": {
    "application/vnd.databricks.v1+cell": {
     "cellMetadata": {
      "byteLimit": 2048000,
      "rowLimit": 10000
     },
     "inputWidgets": {},
     "nuid": "16e853c5-aaff-4677-b355-44acb9c53c89",
     "showTitle": false,
     "tableResultSettingsMap": {},
     "title": ""
    }
   },
   "outputs": [
    {
     "output_type": "stream",
     "name": "stdout",
     "output_type": "stream",
     "text": [
      "+--------------------+----+----------+--------+-----------------+---------------+-------------------+--------------+------------+----------------+--------------+--------------+------+----------------+-------------+---------+-------------+---------+-----------------+------------------+---------+-----------------+----------------+-----------+-------------+-----------------+-----------------+------------+-------------------+---------------+\n|      identifierHash|type|   country|language|socialNbFollowers|socialNbFollows|socialProductsLiked|productsListed|productsSold|productsPassRate|productsWished|productsBought|gender|civilityGenderId|civilityTitle|hasAnyApp|hasAndroidApp|hasIosApp|hasProfilePicture|daysSinceLastLogin|seniority|seniorityAsMonths|seniorityAsYears|countryCode|language_full|account_age_years|account_age_group|current year|civilityTitle_clean|user_descriptor|\n+--------------------+----+----------+--------+-----------------+---------------+-------------------+--------------+------------+----------------+--------------+--------------+------+----------------+-------------+---------+-------------+---------+-----------------+------------------+---------+-----------------+----------------+-----------+-------------+-----------------+-----------------+------------+-------------------+---------------+\n|-7279641312655250028|user|Etats-Unis|      EN|                3|              8|                  0|             0|           0|             0.0|             0|             0|Female|               2|          mrs|    False|        False|    False|             True|               709|     3205|           106.83|             8.9|         US|      English|             8.78|               >3|        2024|                 Ms|Female_US_Ms_EN|\n|-1456013578740053406|user| Allemagne|      DE|                3|              8|                  0|             0|           0|             0.0|             0|             0|Female|               2|          mrs|    False|        False|    False|             True|               709|     3205|           106.83|             8.9|         DE|       Others|             8.78|               >3|        2024|                 Ms|Female_DE_Ms_DE|\n| 9006282053848196165|user|     Suède|      EN|                3|              8|                  0|             0|           0|             0.0|             0|             0|  Male|               1|           mr|     True|        False|     True|             True|               689|     3205|           106.83|             8.9|         SE|      English|             8.78|               >3|        2024|                 mr|  Male_SE_mr_EN|\n+--------------------+----+----------+--------+-----------------+---------------+-------------------+--------------+------------+----------------+--------------+--------------+------+----------------+-------------+---------+-------------+---------+-----------------+------------------+---------+-----------------+----------------+-----------+-------------+-----------------+-----------------+------------+-------------------+---------------+\nonly showing top 3 rows\n\n"
     ]
    }
   ],
   "source": [
    "userDF = userDF.withColumn(\"user_descriptor\",\n",
    "                           concat(\n",
    "                               col(\"gender\"), lit(\"_\"), col(\"countryCode\"), lit(\"_\"),\n",
    "                               expr(\"substring(civilityTitle_clean, 1, 3)\"), lit(\"_\"),\n",
    "                               col(\"language\")\n",
    "                           ))\n",
    "userDF.show(3, truncate=True)"
   ]
  },
  {
   "cell_type": "code",
   "execution_count": 0,
   "metadata": {
    "application/vnd.databricks.v1+cell": {
     "cellMetadata": {
      "byteLimit": 2048000,
      "rowLimit": 10000
     },
     "inputWidgets": {},
     "nuid": "dc070ad8-d5d1-46f7-aa66-804277ca52e9",
     "showTitle": false,
     "tableResultSettingsMap": {},
     "title": ""
    }
   },
   "outputs": [
    {
     "output_type": "stream",
     "name": "stdout",
     "output_type": "stream",
     "text": [
      "Out[13]: DataFrame[identifierHash: string, type: string, country: string, language: string, socialNbFollowers: int, socialNbFollows: string, socialProductsLiked: string, productsListed: string, productsSold: string, productsPassRate: string, productsWished: string, productsBought: string, gender: string, civilityGenderId: string, civilityTitle: string, hasAnyApp: string, hasAndroidApp: string, hasIosApp: string, hasProfilePicture: string, daysSinceLastLogin: string, seniority: string, seniorityAsMonths: string, seniorityAsYears: string, countryCode: string, language_full: string, account_age_years: double, account_age_group: string, current year: int, civilityTitle_clean: string, user_descriptor: string]"
     ]
    }
   ],
   "source": [
    "userDF = userDF.withColumn(\"socialNbFollowers\", col(\"socialNbFollowers\").cast(IntegerType()) )\n",
    "userDF"
   ]
  },
  {
   "cell_type": "code",
   "execution_count": 0,
   "metadata": {
    "application/vnd.databricks.v1+cell": {
     "cellMetadata": {
      "byteLimit": 2048000,
      "rowLimit": 10000
     },
     "inputWidgets": {},
     "nuid": "95148025-b8c8-42b6-bf4c-99bfcc70f5e7",
     "showTitle": false,
     "tableResultSettingsMap": {},
     "title": ""
    }
   },
   "outputs": [
    {
     "output_type": "stream",
     "name": "stdout",
     "output_type": "stream",
     "text": [
      "+--------------------+----+----------+--------+-----------------+---------------+-------------------+--------------+------------+----------------+--------------+--------------+------+----------------+-------------+---------+-------------+---------+-----------------+------------------+---------+-----------------+----------------+-----------+-------------+-----------------+-----------------+------------+-------------------+---------------+\n|      identifierHash|type|   country|language|socialNbFollowers|socialNbFollows|socialProductsLiked|productsListed|productsSold|productsPassRate|productsWished|productsBought|gender|civilityGenderId|civilityTitle|hasAnyApp|hasAndroidApp|hasIosApp|hasProfilePicture|daysSinceLastLogin|seniority|seniorityAsMonths|seniorityAsYears|countryCode|language_full|account_age_years|account_age_group|current year|civilityTitle_clean|user_descriptor|\n+--------------------+----+----------+--------+-----------------+---------------+-------------------+--------------+------------+----------------+--------------+--------------+------+----------------+-------------+---------+-------------+---------+-----------------+------------------+---------+-----------------+----------------+-----------+-------------+-----------------+-----------------+------------+-------------------+---------------+\n|-7279641312655250028|user|Etats-Unis|      EN|                3|              8|                  0|             0|           0|             0.0|             0|             0|Female|               2|          mrs|    False|        False|    False|             True|               709|     3205|           106.83|             8.9|         US|      English|             8.78|               >3|        2024|                 Ms|Female_US_Ms_EN|\n+--------------------+----+----------+--------+-----------------+---------------+-------------------+--------------+------------+----------------+--------------+--------------+------+----------------+-------------+---------+-------------+---------+-----------------+------------------+---------+-----------------+----------------+-----------+-------------+-----------------+-----------------+------------+-------------------+---------------+\nonly showing top 1 row\n\n"
     ]
    }
   ],
   "source": [
    "userDF.show(1)"
   ]
  },
  {
   "cell_type": "code",
   "execution_count": 0,
   "metadata": {
    "application/vnd.databricks.v1+cell": {
     "cellMetadata": {
      "byteLimit": 2048000,
      "rowLimit": 10000
     },
     "inputWidgets": {},
     "nuid": "9e6ef138-ea0b-4ffd-b20f-7c3ae4e6c964",
     "showTitle": false,
     "tableResultSettingsMap": {},
     "title": ""
    }
   },
   "outputs": [
    {
     "output_type": "stream",
     "name": "stdout",
     "output_type": "stream",
     "text": [
      "Out[15]: DataFrame[identifierHash: string, type: string, country: string, language: string, socialnbfollowers: int, socialnbfollows: int, socialProductsLiked: int, productsListed: int, productsSold: int, productspassrate: decimal(10,2), productsWished: int, productsBought: int, gender: string, civilityGenderId: string, civilityTitle: string, hasanyapp: boolean, hasandroidapp: boolean, hasiosapp: boolean, hasprofilepicture: boolean, daysSinceLastLogin: string, seniority: string, seniorityasmonths: decimal(10,2), seniorityasyears: decimal(10,2), countryCode: string, language_full: string, account_age_years: double, account_age_group: string, current year: int, civilityTitle_clean: string, user_descriptor: string]"
     ]
    }
   ],
   "source": [
    "userDF = userDF.withColumn(\"hasanyapp\", col(\"hasanyapp\").cast(\"boolean\"))\n",
    "userDF = userDF.withColumn(\"hasandroidapp\", col(\"hasandroidapp\").cast(\"boolean\"))\n",
    "userDF = userDF.withColumn(\"hasiosapp\", col(\"hasiosapp\").cast(\"boolean\"))\n",
    "userDF = userDF.withColumn(\"hasprofilepicture\", col(\"hasprofilepicture\").cast(\"boolean\"))\n",
    "\n",
    "\n",
    "\n",
    "userDF = userDF.withColumn(\"socialnbfollowers\", col(\"socialnbfollowers\").cast(IntegerType()))\n",
    "userDF = userDF.withColumn(\"socialnbfollows\", col(\"socialnbfollows\").cast(IntegerType()))\n",
    "userDF = userDF.withColumn(\"socialProductsLiked\", col(\"socialProductsLiked\").cast(IntegerType()))\n",
    "userDF = userDF.withColumn(\"productsListed\", col(\"productsListed\").cast(IntegerType()))\n",
    "userDF = userDF.withColumn(\"productsSold\", col(\"productsSold\").cast(IntegerType()))\n",
    "userDF = userDF.withColumn(\"productsWished\", col(\"productsWished\").cast(IntegerType()))\n",
    "userDF = userDF.withColumn(\"productsBought\", col(\"productsBought\").cast(IntegerType()))\n",
    "\n",
    "\n",
    "\n",
    "userDF = userDF.withColumn(\"productspassrate\", col(\"productspassrate\").cast(DecimalType(10, 2)))\n",
    "userDF = userDF.withColumn(\"seniorityasmonths\", col(\"seniorityasmonths\").cast(DecimalType(10, 2)))\n",
    "userDF = userDF.withColumn(\"seniorityasyears\", col(\"seniorityasyears\").cast(DecimalType(10, 2)))\n",
    "userDF"
   ]
  },
  {
   "cell_type": "code",
   "execution_count": 0,
   "metadata": {
    "application/vnd.databricks.v1+cell": {
     "cellMetadata": {
      "byteLimit": 2048000,
      "rowLimit": 10000
     },
     "inputWidgets": {},
     "nuid": "ac537e04-5aa4-4da5-be92-3bf88c280ab3",
     "showTitle": false,
     "tableResultSettingsMap": {},
     "title": ""
    }
   },
   "outputs": [],
   "source": [
    "sanitize_columns = [\n",
    "    col.replace(\" \",\"_\")\n",
    "    for col in userDF.columns\n",
    "]\n",
    "userDF = userDF.toDF(*sanitize_columns)"
   ]
  },
  {
   "cell_type": "code",
   "execution_count": 0,
   "metadata": {
    "application/vnd.databricks.v1+cell": {
     "cellMetadata": {
      "byteLimit": 2048000,
      "rowLimit": 10000
     },
     "inputWidgets": {},
     "nuid": "53ef15a4-89e8-4b26-90c4-54936235d46a",
     "showTitle": false,
     "tableResultSettingsMap": {},
     "title": ""
    }
   },
   "outputs": [],
   "source": [
    "## write delta table\n",
    "\n",
    "userDF.write.format(\"delta\").mode(\"overwrite\").save(\"/mnt/delta/tables/silver/users\")"
   ]
  },
  {
   "cell_type": "code",
   "execution_count": 0,
   "metadata": {
    "application/vnd.databricks.v1+cell": {
     "cellMetadata": {
      "byteLimit": 2048000,
      "rowLimit": 10000
     },
     "inputWidgets": {},
     "nuid": "7a01e7f9-f3c0-471c-a0b3-3ae87a81919b",
     "showTitle": false,
     "tableResultSettingsMap": {},
     "title": ""
    }
   },
   "outputs": [
    {
     "output_type": "display_data",
     "data": {
      "text/html": [
       "<style scoped>\n",
       "  .table-result-container {\n",
       "    max-height: 300px;\n",
       "    overflow: auto;\n",
       "  }\n",
       "  table, th, td {\n",
       "    border: 1px solid black;\n",
       "    border-collapse: collapse;\n",
       "  }\n",
       "  th, td {\n",
       "    padding: 5px;\n",
       "  }\n",
       "  th {\n",
       "    text-align: left;\n",
       "  }\n",
       "</style><div class='table-result-container'><table class='table-result'><thead style='background-color: white'><tr><th>path</th><th>name</th><th>size</th><th>modificationTime</th></tr></thead><tbody><tr><td>dbfs:/mnt/delta/tables/silver/users/</td><td>users/</td><td>0</td><td>0</td></tr></tbody></table></div>"
      ]
     },
     "metadata": {
      "application/vnd.databricks.v1+output": {
       "addedWidgets": {},
       "aggData": [],
       "aggError": "",
       "aggOverflow": false,
       "aggSchema": [],
       "aggSeriesLimitReached": false,
       "aggType": "",
       "arguments": {},
       "columnCustomDisplayInfos": {},
       "data": [
        [
         "dbfs:/mnt/delta/tables/silver/users/",
         "users/",
         0,
         0
        ]
       ],
       "datasetInfos": [],
       "dbfsResultPath": null,
       "isJsonSchema": true,
       "metadata": {
        "isDbfsCommandResult": false
       },
       "overflow": false,
       "plotOptions": {
        "customPlotOptions": {},
        "displayType": "table",
        "pivotAggregation": null,
        "pivotColumns": null,
        "xColumns": null,
        "yColumns": null
       },
       "removedWidgets": [],
       "schema": [
        {
         "metadata": "{}",
         "name": "path",
         "type": "\"string\""
        },
        {
         "metadata": "{}",
         "name": "name",
         "type": "\"string\""
        },
        {
         "metadata": "{}",
         "name": "size",
         "type": "\"long\""
        },
        {
         "metadata": "{}",
         "name": "modificationTime",
         "type": "\"long\""
        }
       ],
       "type": "table"
      }
     },
     "output_type": "display_data"
    }
   ],
   "source": [
    "%fs ls \"/mnt/delta/tables/silver/\""
   ]
  },
  {
   "cell_type": "code",
   "execution_count": 0,
   "metadata": {
    "application/vnd.databricks.v1+cell": {
     "cellMetadata": {
      "byteLimit": 2048000,
      "rowLimit": 10000
     },
     "inputWidgets": {},
     "nuid": "ef920f74-e346-486c-90fd-8b6705ffbc72",
     "showTitle": false,
     "tableResultSettingsMap": {},
     "title": ""
    }
   },
   "outputs": [
    {
     "output_type": "display_data",
     "data": {
      "text/html": [
       "<style scoped>\n",
       "  .table-result-container {\n",
       "    max-height: 300px;\n",
       "    overflow: auto;\n",
       "  }\n",
       "  table, th, td {\n",
       "    border: 1px solid black;\n",
       "    border-collapse: collapse;\n",
       "  }\n",
       "  th, td {\n",
       "    padding: 5px;\n",
       "  }\n",
       "  th {\n",
       "    text-align: left;\n",
       "  }\n",
       "</style><div class='table-result-container'><table class='table-result'><thead style='background-color: white'><tr><th>path</th><th>name</th><th>size</th><th>modificationTime</th></tr></thead><tbody><tr><td>dbfs:/mnt/delta/tables/bronze/buyers/</td><td>buyers/</td><td>0</td><td>0</td></tr><tr><td>dbfs:/mnt/delta/tables/bronze/countries/</td><td>countries/</td><td>0</td><td>0</td></tr><tr><td>dbfs:/mnt/delta/tables/bronze/sellers/</td><td>sellers/</td><td>0</td><td>0</td></tr><tr><td>dbfs:/mnt/delta/tables/bronze/users/</td><td>users/</td><td>0</td><td>0</td></tr></tbody></table></div>"
      ]
     },
     "metadata": {
      "application/vnd.databricks.v1+output": {
       "addedWidgets": {},
       "aggData": [],
       "aggError": "",
       "aggOverflow": false,
       "aggSchema": [],
       "aggSeriesLimitReached": false,
       "aggType": "",
       "arguments": {},
       "columnCustomDisplayInfos": {},
       "data": [
        [
         "dbfs:/mnt/delta/tables/bronze/buyers/",
         "buyers/",
         0,
         0
        ],
        [
         "dbfs:/mnt/delta/tables/bronze/countries/",
         "countries/",
         0,
         0
        ],
        [
         "dbfs:/mnt/delta/tables/bronze/sellers/",
         "sellers/",
         0,
         0
        ],
        [
         "dbfs:/mnt/delta/tables/bronze/users/",
         "users/",
         0,
         0
        ]
       ],
       "datasetInfos": [],
       "dbfsResultPath": null,
       "isJsonSchema": true,
       "metadata": {
        "isDbfsCommandResult": false
       },
       "overflow": false,
       "plotOptions": {
        "customPlotOptions": {},
        "displayType": "table",
        "pivotAggregation": null,
        "pivotColumns": null,
        "xColumns": null,
        "yColumns": null
       },
       "removedWidgets": [],
       "schema": [
        {
         "metadata": "{}",
         "name": "path",
         "type": "\"string\""
        },
        {
         "metadata": "{}",
         "name": "name",
         "type": "\"string\""
        },
        {
         "metadata": "{}",
         "name": "size",
         "type": "\"long\""
        },
        {
         "metadata": "{}",
         "name": "modificationTime",
         "type": "\"long\""
        }
       ],
       "type": "table"
      }
     },
     "output_type": "display_data"
    }
   ],
   "source": [
    "%fs ls \"/mnt/delta/tables/bronze/\""
   ]
  },
  {
   "cell_type": "code",
   "execution_count": 0,
   "metadata": {
    "application/vnd.databricks.v1+cell": {
     "cellMetadata": {
      "byteLimit": 2048000,
      "rowLimit": 10000
     },
     "inputWidgets": {},
     "nuid": "588a30a9-e561-47b5-aed1-bdd676a84808",
     "showTitle": false,
     "tableResultSettingsMap": {},
     "title": ""
    }
   },
   "outputs": [
    {
     "output_type": "stream",
     "name": "stdout",
     "output_type": "stream",
     "text": [
      "Out[22]: DataFrame[country: string, buyers: string, topbuyers: string, topbuyerratio: string, femalebuyers: string, malebuyers: string, topfemalebuyers: string, topmalebuyers: string, femalebuyersratio: string, topfemalebuyersratio: string, boughtperwishlistratio: string, boughtperlikeratio: string, topboughtperwishlistratio: string, topboughtperlikeratio: string, totalproductsbought: string, totalproductswished: string, totalproductsliked: string, toptotalproductsbought: string, toptotalproductswished: string, toptotalproductsliked: string, meanproductsbought: string, meanproductswished: string, meanproductsliked: string, topmeanproductsbought: string, topmeanproductswished: string, topmeanproductsliked: string, meanofflinedays: string, topmeanofflinedays: string, meanfollowers: string, meanfollowing: string, topmeanfollowers: string, topmeanfollowing: string]"
     ]
    }
   ],
   "source": [
    "buyerDF = spark.read.format(\"delta\").load(\"/mnt/delta/tables/bronze/buyers\")\n",
    "buyerDF"
   ]
  },
  {
   "cell_type": "code",
   "execution_count": 0,
   "metadata": {
    "application/vnd.databricks.v1+cell": {
     "cellMetadata": {
      "byteLimit": 2048000,
      "rowLimit": 10000
     },
     "inputWidgets": {},
     "nuid": "ca07c3e4-bac5-4fc3-aadd-420a4d34a524",
     "showTitle": false,
     "tableResultSettingsMap": {},
     "title": ""
    }
   },
   "outputs": [
    {
     "output_type": "stream",
     "name": "stdout",
     "output_type": "stream",
     "text": [
      "Out[24]: DataFrame[country: string, buyers: int, topbuyers: int, topbuyerratio: decimal(10,0), femalebuyers: int, malebuyers: int, topfemalebuyers: int, topmalebuyers: int, femalebuyersratio: decimal(10,0), topfemalebuyersratio: decimal(10,0), boughtperwishlistratio: decimal(10,0), boughtperlikeratio: decimal(10,0), topboughtperwishlistratio: decimal(10,0), topboughtperlikeratio: decimal(10,0), totalproductsbought: int, totalproductswished: int, totalproductsliked: int, toptotalproductsbought: int, toptotalproductswished: int, toptotalproductsliked: int, meanproductsbought: decimal(10,0), meanproductswished: decimal(10,0), meanproductsliked: decimal(10,0), topmeanproductsbought: decimal(10,0), topmeanproductswished: decimal(10,0), topmeanproductsliked: decimal(10,0), meanofflinedays: decimal(10,0), topmeanofflinedays: decimal(10,0), meanfollowers: decimal(10,0), meanfollowing: decimal(10,0), topmeanfollowers: decimal(10,0), topmeanfollowing: decimal(10,0)]"
     ]
    }
   ],
   "source": [
    "# Casting Integer columns\n",
    "integer_columns = [\n",
    "    'buyers', 'topbuyers', 'femalebuyers', 'malebuyers',\n",
    "    'topfemalebuyers', 'topmalebuyers', 'totalproductsbought',\n",
    "    'totalproductswished', 'totalproductsliked', 'toptotalproductsbought',\n",
    "    'toptotalproductswished', 'toptotalproductsliked'\n",
    "]\n",
    "for column in integer_columns:\n",
    "    buyerDF = buyerDF.withColumn(column, col(column).cast(IntegerType()))\n",
    "\n",
    "# Casting Decimal columns\n",
    "decimal_columns = [\n",
    "    'topbuyerratio', 'femalebuyersratio', 'topfemalebuyersratio',\n",
    "    'boughtperwishlistratio', 'boughtperlikeratio', 'topboughtperwishlistratio',\n",
    "    'topboughtperlikeratio', 'meanproductsbought', 'meanproductswished',\n",
    "    'meanproductsliked', 'topmeanproductsbought', 'topmeanproductswished',\n",
    "    'topmeanproductsliked', 'meanofflinedays', 'topmeanofflinedays',\n",
    "    'meanfollowers', 'meanfollowing', 'topmeanfollowers', 'topmeanfollowing'\n",
    "]\n",
    "for column in decimal_columns:\n",
    "    buyerDF = buyerDF.withColumn(column, col(column).cast(DecimalType()))\n",
    "\n",
    "buyerDF"
   ]
  },
  {
   "cell_type": "code",
   "execution_count": 0,
   "metadata": {
    "application/vnd.databricks.v1+cell": {
     "cellMetadata": {
      "byteLimit": 2048000,
      "rowLimit": 10000
     },
     "inputWidgets": {},
     "nuid": "0ab9c5a8-e868-4b2e-9923-2b010efd5eb1",
     "showTitle": false,
     "tableResultSettingsMap": {},
     "title": ""
    }
   },
   "outputs": [
    {
     "output_type": "stream",
     "name": "stdout",
     "output_type": "stream",
     "text": [
      "+-----------+------+---------+-------------+------------+----------+---------------+-------------+-----------------+--------------------+----------------------+------------------+-------------------------+---------------------+-------------------+-------------------+------------------+----------------------+----------------------+---------------------+------------------+------------------+-----------------+---------------------+---------------------+--------------------+---------------+------------------+-------------+-------------+----------------+----------------+\n|    country|buyers|topbuyers|topbuyerratio|femalebuyers|malebuyers|topfemalebuyers|topmalebuyers|femalebuyersratio|topfemalebuyersratio|boughtperwishlistratio|boughtperlikeratio|topboughtperwishlistratio|topboughtperlikeratio|totalproductsbought|totalproductswished|totalproductsliked|toptotalproductsbought|toptotalproductswished|toptotalproductsliked|meanproductsbought|meanproductswished|meanproductsliked|topmeanproductsbought|topmeanproductswished|topmeanproductsliked|meanofflinedays|topmeanofflinedays|meanfollowers|meanfollowing|topmeanfollowers|topmeanfollowing|\n+-----------+------+---------+-------------+------------+----------+---------------+-------------+-----------------+--------------------+----------------------+------------------+-------------------------+---------------------+-------------------+-------------------+------------------+----------------------+----------------------+---------------------+------------------+------------------+-----------------+---------------------+---------------------+--------------------+---------------+------------------+-------------+-------------+----------------+----------------+\n|     France|  1251|       53|            4|         851|       400|             33|           20|               68|                  62|                    26|                14|                       36|                   23|               3573|              13700|             25249|                  1487|                  4089|                 6406|                 2|                11|               20|                   28|                   77|                 120|            321|                75|            4|            8|              10|              11|\n|Royaume-Uni|   792|       38|            4|         560|       232|             30|            8|               70|                  78|                    14|                 9|                       13|                   11|               2174|              14524|             23378|                   853|                  6124|                 7362|                 2|                18|               29|                   22|                  161|                 193|            298|                68|            5|            8|              11|              12|\n+-----------+------+---------+-------------+------------+----------+---------------+-------------+-----------------+--------------------+----------------------+------------------+-------------------------+---------------------+-------------------+-------------------+------------------+----------------------+----------------------+---------------------+------------------+------------------+-----------------+---------------------+---------------------+--------------------+---------------+------------------+-------------+-------------+----------------+----------------+\nonly showing top 2 rows\n\n"
     ]
    }
   ],
   "source": [
    " buyerDF.show(2, truncate=True)"
   ]
  },
  {
   "cell_type": "code",
   "execution_count": 0,
   "metadata": {
    "application/vnd.databricks.v1+cell": {
     "cellMetadata": {
      "byteLimit": 2048000,
      "rowLimit": 10000
     },
     "inputWidgets": {},
     "nuid": "6abd2b80-a723-41c1-812d-0cad75695d5c",
     "showTitle": false,
     "tableResultSettingsMap": {},
     "title": ""
    }
   },
   "outputs": [
    {
     "output_type": "stream",
     "name": "stdout",
     "output_type": "stream",
     "text": [
      "+-------------------------+\n|topboughtperwishlistratio|\n+-------------------------+\n|                       36|\n|                       13|\n|                       23|\n|                       10|\n|                       11|\n|                       11|\n|                       27|\n|                       12|\n|                       42|\n|                        6|\n+-------------------------+\nonly showing top 10 rows\n\n"
     ]
    }
   ],
   "source": [
    "buyerDF.select(\"topboughtperwishlistratio\").show(10)"
   ]
  },
  {
   "cell_type": "code",
   "execution_count": 0,
   "metadata": {
    "application/vnd.databricks.v1+cell": {
     "cellMetadata": {
      "byteLimit": 2048000,
      "rowLimit": 10000
     },
     "inputWidgets": {},
     "nuid": "ea8ca99e-5515-4003-a141-753c0122a8f9",
     "showTitle": false,
     "tableResultSettingsMap": {},
     "title": ""
    }
   },
   "outputs": [
    {
     "output_type": "stream",
     "name": "stdout",
     "output_type": "stream",
     "text": [
      "+-----------+------+---------+-------------+------------+----------+---------------+-------------+-----------------+--------------------+----------------------+------------------+-------------------------+---------------------+-------------------+-------------------+------------------+----------------------+----------------------+---------------------+------------------+------------------+-----------------+---------------------+---------------------+--------------------+---------------+------------------+-------------+-------------+----------------+----------------+-----------------+-------------+---------------+---------------------+\n|    country|buyers|topbuyers|topbuyerratio|femalebuyers|malebuyers|topfemalebuyers|topmalebuyers|femalebuyersratio|topfemalebuyersratio|boughtperwishlistratio|boughtperlikeratio|topboughtperwishlistratio|topboughtperlikeratio|totalproductsbought|totalproductswished|totalproductsliked|toptotalproductsbought|toptotalproductswished|toptotalproductsliked|meanproductsbought|meanproductswished|meanproductsliked|topmeanproductsbought|topmeanproductswished|topmeanproductsliked|meanofflinedays|topmeanofflinedays|meanfollowers|meanfollowing|topmeanfollowers|topmeanfollowing|male_female_ratio|wish_purchase|high_engagement|growing_female_market|\n+-----------+------+---------+-------------+------------+----------+---------------+-------------+-----------------+--------------------+----------------------+------------------+-------------------------+---------------------+-------------------+-------------------+------------------+----------------------+----------------------+---------------------+------------------+------------------+-----------------+---------------------+---------------------+--------------------+---------------+------------------+-------------+-------------+----------------+----------------+-----------------+-------------+---------------+---------------------+\n|     France|  1251|       53|            4|         851|       400|             33|           20|               68|                  62|                    26|                14|                       36|                   23|               3573|              13700|             25249|                  1487|                  4089|                 6406|                 2|                11|               20|                   28|                   77|                 120|            321|                75|            4|            8|              10|              11|             0.47|         1.14|           true|                 true|\n|Royaume-uni|   792|       38|            4|         560|       232|             30|            8|               70|                  78|                    14|                 9|                       13|                   11|               2174|              14524|             23378|                   853|                  6124|                 7362|                 2|                18|               29|                   22|                  161|                 193|            298|                68|            5|            8|              11|              12|             0.41|         2.82|          false|                false|\n+-----------+------+---------+-------------+------------+----------+---------------+-------------+-----------------+--------------------+----------------------+------------------+-------------------------+---------------------+-------------------+-------------------+------------------+----------------------+----------------------+---------------------+------------------+------------------+-----------------+---------------------+---------------------+--------------------+---------------+------------------+-------------+-------------+----------------+----------------+-----------------+-------------+---------------+---------------------+\nonly showing top 2 rows\n\n"
     ]
    }
   ],
   "source": [
    "# normalize country names\n",
    "buyerDF = buyerDF.withColumn(\"country\", initcap(col(\"country\")))\n",
    "\n",
    "# male to female ratio\n",
    "buyerDF = buyerDF.withColumn(\"male_female_ratio\", round(col(\"malebuyers\")/(col(\"femalebuyers\")+1),2))\n",
    "\n",
    "#wish_purchase\n",
    "buyerDF = buyerDF.withColumn(\"wish_purchase\", round(col(\"toptotalproductswished\")/(col(\"totalproductsbought\")+1),2))\n",
    "\n",
    "# Tag countries with a high engagement ratio\n",
    "high_engagement_thresh = 20\n",
    "buyerDF = buyerDF.withColumn(\"high_engagement\",\n",
    "                             when(col(\"topboughtperwishlistratio\")> high_engagement_thresh , True)\n",
    "                             .otherwise(False))\n",
    "\n",
    "# Flag markets with increasing female buyer participation\n",
    "buyerDF = buyerDF.withColumn(\"growing_female_market\",\n",
    "                             when(col(\"femalebuyersratio\")>col(\"topfemalebuyersratio\"), True)\n",
    "                             .otherwise(False))\n",
    "                        \n",
    "buyerDF.show(2)\n"
   ]
  },
  {
   "cell_type": "code",
   "execution_count": 0,
   "metadata": {
    "application/vnd.databricks.v1+cell": {
     "cellMetadata": {
      "byteLimit": 2048000,
      "rowLimit": 10000
     },
     "inputWidgets": {},
     "nuid": "cf86757a-668d-4755-b970-db820808b754",
     "showTitle": false,
     "tableResultSettingsMap": {},
     "title": ""
    }
   },
   "outputs": [],
   "source": [
    "buyerDF.write.format(\"delta\").mode(\"overwrite\").save(\"/mnt/delta/tables/silver/buyers\")"
   ]
  },
  {
   "cell_type": "code",
   "execution_count": 0,
   "metadata": {
    "application/vnd.databricks.v1+cell": {
     "cellMetadata": {
      "byteLimit": 2048000,
      "rowLimit": 10000
     },
     "inputWidgets": {},
     "nuid": "a25d82ba-b67c-4cdd-913f-6e4a2fc97ab2",
     "showTitle": false,
     "tableResultSettingsMap": {},
     "title": ""
    }
   },
   "outputs": [
    {
     "output_type": "display_data",
     "data": {
      "text/html": [
       "<style scoped>\n",
       "  .table-result-container {\n",
       "    max-height: 300px;\n",
       "    overflow: auto;\n",
       "  }\n",
       "  table, th, td {\n",
       "    border: 1px solid black;\n",
       "    border-collapse: collapse;\n",
       "  }\n",
       "  th, td {\n",
       "    padding: 5px;\n",
       "  }\n",
       "  th {\n",
       "    text-align: left;\n",
       "  }\n",
       "</style><div class='table-result-container'><table class='table-result'><thead style='background-color: white'><tr><th>path</th><th>name</th><th>size</th><th>modificationTime</th></tr></thead><tbody><tr><td>dbfs:/mnt/delta/tables/silver/buyers/_delta_log/</td><td>_delta_log/</td><td>0</td><td>0</td></tr><tr><td>dbfs:/mnt/delta/tables/silver/buyers/part-00000-2178a593-2a7f-4823-8842-6d30449818e5-c000.snappy.parquet</td><td>part-00000-2178a593-2a7f-4823-8842-6d30449818e5-c000.snappy.parquet</td><td>16924</td><td>1734290202000</td></tr><tr><td>dbfs:/mnt/delta/tables/silver/buyers/part-00000-f446ef07-d8a3-419e-90a7-19cbf243c426-c000.snappy.parquet</td><td>part-00000-f446ef07-d8a3-419e-90a7-19cbf243c426-c000.snappy.parquet</td><td>16924</td><td>1734290215000</td></tr></tbody></table></div>"
      ]
     },
     "metadata": {
      "application/vnd.databricks.v1+output": {
       "addedWidgets": {},
       "aggData": [],
       "aggError": "",
       "aggOverflow": false,
       "aggSchema": [],
       "aggSeriesLimitReached": false,
       "aggType": "",
       "arguments": {},
       "columnCustomDisplayInfos": {},
       "data": [
        [
         "dbfs:/mnt/delta/tables/silver/buyers/_delta_log/",
         "_delta_log/",
         0,
         0
        ],
        [
         "dbfs:/mnt/delta/tables/silver/buyers/part-00000-2178a593-2a7f-4823-8842-6d30449818e5-c000.snappy.parquet",
         "part-00000-2178a593-2a7f-4823-8842-6d30449818e5-c000.snappy.parquet",
         16924,
         1734290202000
        ],
        [
         "dbfs:/mnt/delta/tables/silver/buyers/part-00000-f446ef07-d8a3-419e-90a7-19cbf243c426-c000.snappy.parquet",
         "part-00000-f446ef07-d8a3-419e-90a7-19cbf243c426-c000.snappy.parquet",
         16924,
         1734290215000
        ]
       ],
       "datasetInfos": [],
       "dbfsResultPath": null,
       "isJsonSchema": true,
       "metadata": {
        "isDbfsCommandResult": false
       },
       "overflow": false,
       "plotOptions": {
        "customPlotOptions": {},
        "displayType": "table",
        "pivotAggregation": null,
        "pivotColumns": null,
        "xColumns": null,
        "yColumns": null
       },
       "removedWidgets": [],
       "schema": [
        {
         "metadata": "{}",
         "name": "path",
         "type": "\"string\""
        },
        {
         "metadata": "{}",
         "name": "name",
         "type": "\"string\""
        },
        {
         "metadata": "{}",
         "name": "size",
         "type": "\"long\""
        },
        {
         "metadata": "{}",
         "name": "modificationTime",
         "type": "\"long\""
        }
       ],
       "type": "table"
      }
     },
     "output_type": "display_data"
    }
   ],
   "source": [
    "%fs ls \"/mnt/delta/tables/silver/buyers\""
   ]
  },
  {
   "cell_type": "code",
   "execution_count": 0,
   "metadata": {
    "application/vnd.databricks.v1+cell": {
     "cellMetadata": {
      "byteLimit": 2048000,
      "rowLimit": 10000
     },
     "inputWidgets": {},
     "nuid": "995b1f57-de26-4396-815a-f46dbcb37c8b",
     "showTitle": false,
     "tableResultSettingsMap": {},
     "title": ""
    }
   },
   "outputs": [
    {
     "output_type": "display_data",
     "data": {
      "text/html": [
       "<style scoped>\n",
       "  .table-result-container {\n",
       "    max-height: 300px;\n",
       "    overflow: auto;\n",
       "  }\n",
       "  table, th, td {\n",
       "    border: 1px solid black;\n",
       "    border-collapse: collapse;\n",
       "  }\n",
       "  th, td {\n",
       "    padding: 5px;\n",
       "  }\n",
       "  th {\n",
       "    text-align: left;\n",
       "  }\n",
       "</style><div class='table-result-container'><table class='table-result'><thead style='background-color: white'><tr><th>path</th><th>name</th><th>size</th><th>modificationTime</th></tr></thead><tbody><tr><td>dbfs:/mnt/delta/tables/bronze/buyers/</td><td>buyers/</td><td>0</td><td>0</td></tr><tr><td>dbfs:/mnt/delta/tables/bronze/countries/</td><td>countries/</td><td>0</td><td>0</td></tr><tr><td>dbfs:/mnt/delta/tables/bronze/sellers/</td><td>sellers/</td><td>0</td><td>0</td></tr><tr><td>dbfs:/mnt/delta/tables/bronze/users/</td><td>users/</td><td>0</td><td>0</td></tr></tbody></table></div>"
      ]
     },
     "metadata": {
      "application/vnd.databricks.v1+output": {
       "addedWidgets": {},
       "aggData": [],
       "aggError": "",
       "aggOverflow": false,
       "aggSchema": [],
       "aggSeriesLimitReached": false,
       "aggType": "",
       "arguments": {},
       "columnCustomDisplayInfos": {},
       "data": [
        [
         "dbfs:/mnt/delta/tables/bronze/buyers/",
         "buyers/",
         0,
         0
        ],
        [
         "dbfs:/mnt/delta/tables/bronze/countries/",
         "countries/",
         0,
         0
        ],
        [
         "dbfs:/mnt/delta/tables/bronze/sellers/",
         "sellers/",
         0,
         0
        ],
        [
         "dbfs:/mnt/delta/tables/bronze/users/",
         "users/",
         0,
         0
        ]
       ],
       "datasetInfos": [],
       "dbfsResultPath": null,
       "isJsonSchema": true,
       "metadata": {
        "isDbfsCommandResult": false
       },
       "overflow": false,
       "plotOptions": {
        "customPlotOptions": {},
        "displayType": "table",
        "pivotAggregation": null,
        "pivotColumns": null,
        "xColumns": null,
        "yColumns": null
       },
       "removedWidgets": [],
       "schema": [
        {
         "metadata": "{}",
         "name": "path",
         "type": "\"string\""
        },
        {
         "metadata": "{}",
         "name": "name",
         "type": "\"string\""
        },
        {
         "metadata": "{}",
         "name": "size",
         "type": "\"long\""
        },
        {
         "metadata": "{}",
         "name": "modificationTime",
         "type": "\"long\""
        }
       ],
       "type": "table"
      }
     },
     "output_type": "display_data"
    }
   ],
   "source": [
    "%fs ls \"/mnt/delta/tables/bronze\""
   ]
  },
  {
   "cell_type": "code",
   "execution_count": 0,
   "metadata": {
    "application/vnd.databricks.v1+cell": {
     "cellMetadata": {
      "byteLimit": 2048000,
      "rowLimit": 10000
     },
     "inputWidgets": {},
     "nuid": "0661a441-d578-412f-8362-50ee2b6d9e23",
     "showTitle": false,
     "tableResultSettingsMap": {},
     "title": ""
    }
   },
   "outputs": [
    {
     "output_type": "stream",
     "name": "stdout",
     "output_type": "stream",
     "text": [
      "+---------+------+---------+----------------+------------------+------------------+-----------------+-------------------+------------------+------------------+-----------------+-----------+-----------+------------------+-------------+-----------+-----------------+-----------------+------------------+\n|  country|   sex|nbsellers|meanproductssold|meanproductslisted|meansellerpassrate|totalproductssold|totalproductslisted|meanproductsbought|meanproductswished|meanproductsliked|totalbought|totalwished|totalproductsliked|meanfollowers|meanfollows|percentofappusers|percentofiosusers|     meanseniority|\n+---------+------+---------+----------------+------------------+------------------+-----------------+-------------------+------------------+------------------+-----------------+-----------+-----------+------------------+-------------+-----------+-----------------+-----------------+------------------+\n|Allemagne|Female|      116|            4.03|              2.72|             27.33|              468|                315|              3.05|             34.66|            35.28|        354|       4021|              4092|          9.5|        8.9|             54.0|             49.0|3060.3362068965516|\n|Allemagne|  Male|       34|             2.0|               1.0|             19.15|               68|                 34|              1.62|              3.38|            31.79|         55|        115|              1081|          7.8|        8.4|             79.0|             64.0|3089.0588235294117|\n+---------+------+---------+----------------+------------------+------------------+-----------------+-------------------+------------------+------------------+-----------------+-----------+-----------+------------------+-------------+-----------+-----------------+-----------------+------------------+\nonly showing top 2 rows\n\n"
     ]
    }
   ],
   "source": [
    "sellerDF = spark.read.format(\"delta\").load(\"/mnt/delta/tables/bronze/sellers\")\n",
    "sellerDF.show(2)"
   ]
  },
  {
   "cell_type": "code",
   "execution_count": 0,
   "metadata": {
    "application/vnd.databricks.v1+cell": {
     "cellMetadata": {
      "byteLimit": 2048000,
      "rowLimit": 10000
     },
     "inputWidgets": {},
     "nuid": "95425fa0-bb14-4e2d-89d3-05d3365866ef",
     "showTitle": false,
     "tableResultSettingsMap": {},
     "title": ""
    }
   },
   "outputs": [
    {
     "output_type": "stream",
     "name": "stdout",
     "output_type": "stream",
     "text": [
      "+--------+------+---------+----------------+------------------+------------------+-----------------+-------------------+------------------+------------------+-----------------+-----------+-----------+------------------+-------------+-----------+-----------------+-----------------+-------------+\n| country|   sex|nbsellers|meanproductssold|meanproductslisted|meansellerpassrate|totalproductssold|totalproductslisted|meanproductsbought|meanproductswished|meanproductsliked|totalbought|totalwished|totalproductsliked|meanfollowers|meanfollows|percentofappusers|percentofiosusers|meanseniority|\n+--------+------+---------+----------------+------------------+------------------+-----------------+-------------------+------------------+------------------+-----------------+-----------+-----------+------------------+-------------+-----------+-----------------+-----------------+-------------+\n|Finlande|Female|        8|             2.5|              1.25|             32.13|               20|                 10|             12.63|             31.13|            23.75|        101|        249|               190|          7.6|        9.8|             75.0|             75.0|       3157.0|\n| Irlande|Female|        8|             2.0|              1.13|             28.25|               16|                  9|               3.0|             18.88|            50.38|         24|        151|               403|          7.1|        8.3|             37.0|             12.0|       3157.5|\n+--------+------+---------+----------------+------------------+------------------+-----------------+-------------------+------------------+------------------+-----------------+-----------+-----------+------------------+-------------+-----------+-----------------+-----------------+-------------+\nonly showing top 2 rows\n\n"
     ]
    }
   ],
   "source": [
    "sellerDF.orderBy(col(\"nbsellers\"), ascending=False ).show(2)"
   ]
  },
  {
   "cell_type": "code",
   "execution_count": 0,
   "metadata": {
    "application/vnd.databricks.v1+cell": {
     "cellMetadata": {
      "byteLimit": 2048000,
      "rowLimit": 10000
     },
     "inputWidgets": {},
     "nuid": "8a9a8e7c-3dc9-4431-affb-106567d800e8",
     "showTitle": false,
     "tableResultSettingsMap": {},
     "title": ""
    }
   },
   "outputs": [
    {
     "output_type": "stream",
     "name": "stdout",
     "output_type": "stream",
     "text": [
      "Out[54]: DataFrame[country: string, sex: string, nbsellers: int, meanproductssold: decimal(10,2), meanproductslisted: decimal(10,2), meansellerpassrate: decimal(10,2), totalproductssold: int, totalproductslisted: int, meanproductsbought: decimal(10,2), meanproductswished: decimal(10,2), meanproductsliked: decimal(10,2), totalbought: int, totalwished: int, totalproductsliked: int, meanfollowers: decimal(10,2), meanfollows: decimal(10,2), percentofappusers: decimal(10,2), percentofiosusers: decimal(10,2), meanseniority: decimal(10,2)]"
     ]
    }
   ],
   "source": [
    "sellerDF = sellerDF\\\n",
    "    .withColumn(\"nbsellers\", col(\"nbsellers\").cast(IntegerType())) \\\n",
    "    .withColumn(\"meanproductssold\", col(\"meanproductssold\").cast(DecimalType(10,2)))\\\n",
    "    .withColumn(\"totalproductssold\", col(\"totalproductssold\").cast(IntegerType())) \\\n",
    "    .withColumn(\"totalproductslisted\", col(\"totalproductslisted\").cast(IntegerType())) \\\n",
    "    .withColumn(\"totalbought\", col(\"totalbought\").cast(IntegerType())) \\\n",
    "    .withColumn(\"totalwished\", col(\"totalwished\").cast(IntegerType())) \\\n",
    "    .withColumn(\"totalproductsliked\", col(\"totalproductsliked\").cast(IntegerType())) \\\n",
    "    .withColumn(\"meanproductslisted\", col(\"meanproductslisted\").cast(DecimalType(10,2)))\\\n",
    "    .withColumn(\"meansellerpassrate\", col(\"meansellerpassrate\").cast(DecimalType(10,2)))\\\n",
    "    .withColumn(\"meanproductsbought\", col(\"meanproductsbought\").cast(DecimalType(10,2)))\\\n",
    "    .withColumn(\"meanproductswished\", col(\"meanproductswished\").cast(DecimalType(10,2)))\\\n",
    "    .withColumn(\"meanproductsliked\", col(\"meanproductsliked\").cast(DecimalType(10,2)))\\\n",
    "    .withColumn(\"meanfollowers\", col(\"meanfollowers\").cast(DecimalType(10,2)))\\\n",
    "    .withColumn(\"meanfollows\", col(\"meanfollows\").cast(DecimalType(10,2)))\\\n",
    "    .withColumn(\"percentofappusers\", col(\"percentofappusers\").cast(DecimalType(10,2)))\\\n",
    "    .withColumn(\"percentofiosusers\", col(\"percentofiosusers\").cast(DecimalType(10,2)))\\\n",
    "    .withColumn(\"meanseniority\", col(\"meanseniority\").cast(DecimalType(10,2)))\n",
    "sellerDF"
   ]
  },
  {
   "cell_type": "code",
   "execution_count": 0,
   "metadata": {
    "application/vnd.databricks.v1+cell": {
     "cellMetadata": {
      "byteLimit": 2048000,
      "rowLimit": 10000
     },
     "inputWidgets": {},
     "nuid": "2ee1aa13-103a-40ec-84e9-e98ff797e676",
     "showTitle": false,
     "tableResultSettingsMap": {},
     "title": ""
    }
   },
   "outputs": [],
   "source": [
    "# Normalize country names and gender values\n",
    "sellerDF = sellerDF.withColumn(\"country\",initcap(col(\"country\")))\\\n",
    "            .withColumn(\"sex\", upper(col(\"sex\")))\n",
    "#Add a column to categorize the number of sellers\n",
    "sellerDF = sellerDF.withColumn(\"seller_size_category\",\n",
    "                               when(col(\"nbsellers\")<500, \"Small\")\\\n",
    "                                   .when(col(\"nbsellers\")<1500, \"Medium\")\\\n",
    "                                       .otherwise(\"BIG\")\n",
    "                               )\n",
    "\n"
   ]
  },
  {
   "cell_type": "code",
   "execution_count": 0,
   "metadata": {
    "application/vnd.databricks.v1+cell": {
     "cellMetadata": {
      "byteLimit": 2048000,
      "rowLimit": 10000
     },
     "inputWidgets": {},
     "nuid": "f5131413-8f03-4798-b4cc-80256a4217a1",
     "showTitle": false,
     "tableResultSettingsMap": {},
     "title": ""
    }
   },
   "outputs": [],
   "source": [
    "mean_pass_rate = sellerDF.select(round(avg(\"meansellerpassrate\"), 2).alias(\"avg_pass_rate\")).collect()[0][\"avg_pass_rate\"]\n",
    "\n",
    "sellerDF = sellerDF.withColumn(\"meansellerpassrate\",\n",
    "                                 when(col(\"meansellerpassrate\").isNull(), mean_pass_rate)\n",
    "                                 .otherwise(col(\"meansellerpassrate\")))\n"
   ]
  },
  {
   "cell_type": "code",
   "execution_count": 0,
   "metadata": {
    "application/vnd.databricks.v1+cell": {
     "cellMetadata": {
      "byteLimit": 2048000,
      "rowLimit": 10000
     },
     "inputWidgets": {},
     "nuid": "72ae8629-7c76-456d-84d9-74c1d3da92b9",
     "showTitle": false,
     "tableResultSettingsMap": {},
     "title": ""
    }
   },
   "outputs": [
    {
     "output_type": "stream",
     "name": "stdout",
     "output_type": "stream",
     "text": [
      "+---------+------+---------+----------------+------------------+------------------+-----------------+-------------------+------------------+------------------+-----------------+-----------+-----------+------------------+-------------+-----------+-----------------+-----------------+-------------+--------------------+\n|  country|   sex|nbsellers|meanproductssold|meanproductslisted|meansellerpassrate|totalproductssold|totalproductslisted|meanproductsbought|meanproductswished|meanproductsliked|totalbought|totalwished|totalproductsliked|meanfollowers|meanfollows|percentofappusers|percentofiosusers|meanseniority|seller_size_category|\n+---------+------+---------+----------------+------------------+------------------+-----------------+-------------------+------------------+------------------+-----------------+-----------+-----------+------------------+-------------+-----------+-----------------+-----------------+-------------+--------------------+\n|Allemagne|FEMALE|      116|            4.03|              2.72|             27.33|              468|                315|              3.05|             34.66|            35.28|        354|       4021|              4092|         9.50|       8.90|            54.00|            49.00|      3060.34|               Small|\n|Allemagne|  MALE|       34|            2.00|              1.00|             19.15|               68|                 34|              1.62|              3.38|            31.79|         55|        115|              1081|         7.80|       8.40|            79.00|            64.00|      3089.06|               Small|\n+---------+------+---------+----------------+------------------+------------------+-----------------+-------------------+------------------+------------------+-----------------+-----------+-----------+------------------+-------------+-----------+-----------------+-----------------+-------------+--------------------+\nonly showing top 2 rows\n\n"
     ]
    }
   ],
   "source": [
    "sellerDF.show(2)"
   ]
  },
  {
   "cell_type": "code",
   "execution_count": 0,
   "metadata": {
    "application/vnd.databricks.v1+cell": {
     "cellMetadata": {
      "byteLimit": 2048000,
      "rowLimit": 10000
     },
     "inputWidgets": {},
     "nuid": "45e4b28d-2e73-475d-91d7-aef650e34a2e",
     "showTitle": false,
     "tableResultSettingsMap": {},
     "title": ""
    }
   },
   "outputs": [
    {
     "output_type": "stream",
     "name": "stdout",
     "output_type": "stream",
     "text": [
      "+------+-----+\n|   sex|count|\n+------+-----+\n|  MALE|   25|\n|FEMALE|   48|\n+------+-----+\n\n"
     ]
    }
   ],
   "source": [
    "most_gender = sellerDF.groupBy(col(\"sex\")).count().orderBy(\"count\", ascending=False).collect()[0][\"sex\"]\n",
    "\n",
    "sellerDF = sellerDF.withColumn(\"sex\",\n",
    "                               when(col(\"sex\").isNull(), most_gender)\\\n",
    "                                   .otherwise(col(\"sex\")))\n",
    "sellerDF.groupBy(col(\"sex\")).count().show()"
   ]
  },
  {
   "cell_type": "code",
   "execution_count": 0,
   "metadata": {
    "application/vnd.databricks.v1+cell": {
     "cellMetadata": {
      "byteLimit": 2048000,
      "rowLimit": 10000
     },
     "inputWidgets": {},
     "nuid": "9bee09f9-f9a1-4238-b5d9-572cedd12a69",
     "showTitle": false,
     "tableResultSettingsMap": {},
     "title": ""
    }
   },
   "outputs": [
    {
     "output_type": "stream",
     "name": "stdout",
     "output_type": "stream",
     "text": [
      "+-------+------+---------+----------------+------------------+------------------+-----------------+-------------------+------------------+------------------+-----------------+-----------+-----------+------------------+-------------+-----------+-----------------+-----------------+-------------+--------------------+\n|country|   sex|nbsellers|meanproductssold|meanproductslisted|meansellerpassrate|totalproductssold|totalproductslisted|meanproductsbought|meanproductswished|meanproductsliked|totalbought|totalwished|totalproductsliked|meanfollowers|meanfollows|percentofappusers|percentofiosusers|meanseniority|seller_size_category|\n+-------+------+---------+----------------+------------------+------------------+-----------------+-------------------+------------------+------------------+-----------------+-----------+-----------+------------------+-------------+-----------+-----------------+-----------------+-------------+--------------------+\n|   null|FEMALE|     2127|            4.40|              3.54|             29.46|             9354|               7523|              2.06|             18.76|            69.99|       4387|      39896|            148873|        10.40|      22.10|            59.00|            50.00|      3060.95|                 BIG|\n|   null|  MALE|      592|            4.52|              2.88|             29.88|             2673|               1706|              1.86|              9.65|            19.89|       1103|       5715|             11774|         9.40|      15.80|            66.00|            57.00|      3076.17|              Medium|\n|   null|FEMALE|     2719|            4.42|              3.39|             29.55|            12027|               9229|              2.02|             16.77|            59.08|       5490|      45611|            160647|        10.20|      20.70|            60.00|            52.00|      3064.26|                 BIG|\n+-------+------+---------+----------------+------------------+------------------+-----------------+-------------------+------------------+------------------+-----------------+-----------+-----------+------------------+-------------+-----------+-----------------+-----------------+-------------+--------------------+\n\n"
     ]
    }
   ],
   "source": [
    "sellerDF.filter(col(\"country\").isNull()).show()"
   ]
  },
  {
   "cell_type": "code",
   "execution_count": 0,
   "metadata": {
    "application/vnd.databricks.v1+cell": {
     "cellMetadata": {
      "byteLimit": 2048000,
      "rowLimit": 10000
     },
     "inputWidgets": {},
     "nuid": "35b65182-308d-470a-9762-dc12aed90ef9",
     "showTitle": false,
     "tableResultSettingsMap": {},
     "title": ""
    }
   },
   "outputs": [
    {
     "output_type": "stream",
     "name": "stdout",
     "output_type": "stream",
     "text": [
      "+-----------+-----+\n|    country|count|\n+-----------+-----+\n|       null|    3|\n|   Autriche|    2|\n|    Islande|    2|\n|   Bulgarie|    2|\n|   Pays-bas|    2|\n|Royaume-uni|    2|\n| Etats-unis|    2|\n|   Roumanie|    2|\n|     France|    2|\n|      Grèce|    2|\n|    Espagne|    2|\n|     Chypre|    2|\n|     Suisse|    2|\n|  Allemagne|    2|\n|    Pologne|    2|\n|     Italie|    2|\n|  Hong Kong|    2|\n|  Australie|    2|\n|      Suède|    2|\n|   Belgique|    2|\n+-----------+-----+\nonly showing top 20 rows\n\n"
     ]
    }
   ],
   "source": [
    "sellerDF.groupBy(col(\"country\")).count().orderBy(\"count\", ascending=False).show()"
   ]
  },
  {
   "cell_type": "code",
   "execution_count": 0,
   "metadata": {
    "application/vnd.databricks.v1+cell": {
     "cellMetadata": {
      "byteLimit": 2048000,
      "rowLimit": 10000
     },
     "inputWidgets": {},
     "nuid": "1a6eedb6-e62a-4bc1-b3ad-077e02b3a285",
     "showTitle": false,
     "tableResultSettingsMap": {},
     "title": ""
    }
   },
   "outputs": [
    {
     "output_type": "stream",
     "name": "stdout",
     "output_type": "stream",
     "text": [
      "+-----------+-----+\n|    country|count|\n+-----------+-----+\n|   Autriche|    2|\n|    Islande|    2|\n|   Bulgarie|    2|\n|   Pays-bas|    2|\n|Royaume-uni|    2|\n| Etats-unis|    2|\n|   Roumanie|    2|\n|     France|    2|\n|      Grèce|    2|\n|    Espagne|    2|\n|     Chypre|    2|\n|     Suisse|    2|\n|  Allemagne|    2|\n|    Pologne|    2|\n|     Italie|    2|\n|  Hong Kong|    2|\n|  Australie|    2|\n|      Suède|    2|\n|   Belgique|    2|\n|    Estonie|    2|\n+-----------+-----+\nonly showing top 20 rows\n\n"
     ]
    }
   ],
   "source": [
    "sellerDF = sellerDF.filter(col(\"country\").isNotNull())\n",
    "sellerDF.groupBy(\"country\").count().orderBy(\"count\", ascending=False).show()"
   ]
  },
  {
   "cell_type": "code",
   "execution_count": 0,
   "metadata": {
    "application/vnd.databricks.v1+cell": {
     "cellMetadata": {
      "byteLimit": 2048000,
      "rowLimit": 10000
     },
     "inputWidgets": {},
     "nuid": "d5f8c85a-994e-45dc-adb9-0b4beab1d181",
     "showTitle": false,
     "tableResultSettingsMap": {},
     "title": ""
    }
   },
   "outputs": [],
   "source": [
    "sellerDF.write.format(\"delta\").mode(\"overwrite\").save(\"/mnt/delta/tables/silver/sellers\")"
   ]
  },
  {
   "cell_type": "code",
   "execution_count": 0,
   "metadata": {
    "application/vnd.databricks.v1+cell": {
     "cellMetadata": {
      "byteLimit": 2048000,
      "rowLimit": 10000
     },
     "inputWidgets": {},
     "nuid": "2f74a0d8-85ea-4147-81a6-ccded386b8df",
     "showTitle": false,
     "tableResultSettingsMap": {},
     "title": ""
    }
   },
   "outputs": [
    {
     "output_type": "display_data",
     "data": {
      "text/html": [
       "<style scoped>\n",
       "  .table-result-container {\n",
       "    max-height: 300px;\n",
       "    overflow: auto;\n",
       "  }\n",
       "  table, th, td {\n",
       "    border: 1px solid black;\n",
       "    border-collapse: collapse;\n",
       "  }\n",
       "  th, td {\n",
       "    padding: 5px;\n",
       "  }\n",
       "  th {\n",
       "    text-align: left;\n",
       "  }\n",
       "</style><div class='table-result-container'><table class='table-result'><thead style='background-color: white'><tr><th>path</th><th>name</th><th>size</th><th>modificationTime</th></tr></thead><tbody><tr><td>dbfs:/mnt/delta/tables/silver/sellers/_delta_log/</td><td>_delta_log/</td><td>0</td><td>0</td></tr><tr><td>dbfs:/mnt/delta/tables/silver/sellers/part-00000-5bfdce47-f3dd-43b3-9177-1818a7a9bd94-c000.snappy.parquet</td><td>part-00000-5bfdce47-f3dd-43b3-9177-1818a7a9bd94-c000.snappy.parquet</td><td>11249</td><td>1734295563000</td></tr></tbody></table></div>"
      ]
     },
     "metadata": {
      "application/vnd.databricks.v1+output": {
       "addedWidgets": {},
       "aggData": [],
       "aggError": "",
       "aggOverflow": false,
       "aggSchema": [],
       "aggSeriesLimitReached": false,
       "aggType": "",
       "arguments": {},
       "columnCustomDisplayInfos": {},
       "data": [
        [
         "dbfs:/mnt/delta/tables/silver/sellers/_delta_log/",
         "_delta_log/",
         0,
         0
        ],
        [
         "dbfs:/mnt/delta/tables/silver/sellers/part-00000-5bfdce47-f3dd-43b3-9177-1818a7a9bd94-c000.snappy.parquet",
         "part-00000-5bfdce47-f3dd-43b3-9177-1818a7a9bd94-c000.snappy.parquet",
         11249,
         1734295563000
        ]
       ],
       "datasetInfos": [],
       "dbfsResultPath": null,
       "isJsonSchema": true,
       "metadata": {
        "isDbfsCommandResult": false
       },
       "overflow": false,
       "plotOptions": {
        "customPlotOptions": {},
        "displayType": "table",
        "pivotAggregation": null,
        "pivotColumns": null,
        "xColumns": null,
        "yColumns": null
       },
       "removedWidgets": [],
       "schema": [
        {
         "metadata": "{}",
         "name": "path",
         "type": "\"string\""
        },
        {
         "metadata": "{}",
         "name": "name",
         "type": "\"string\""
        },
        {
         "metadata": "{}",
         "name": "size",
         "type": "\"long\""
        },
        {
         "metadata": "{}",
         "name": "modificationTime",
         "type": "\"long\""
        }
       ],
       "type": "table"
      }
     },
     "output_type": "display_data"
    }
   ],
   "source": [
    "%fs ls \"/mnt/delta/tables/silver/sellers\""
   ]
  },
  {
   "cell_type": "code",
   "execution_count": 0,
   "metadata": {
    "application/vnd.databricks.v1+cell": {
     "cellMetadata": {
      "byteLimit": 2048000,
      "rowLimit": 10000
     },
     "inputWidgets": {},
     "nuid": "b7e0874a-d69b-48e6-b69c-3d88e9d5a59c",
     "showTitle": false,
     "tableResultSettingsMap": {},
     "title": ""
    }
   },
   "outputs": [],
   "source": [
    "countriesDF = spark.read.format(\"delta\").load(\"/mnt/delta/tables/bronze/countries\")\n",
    "\n",
    "countriesDF = countriesDF \\\n",
    "    .withColumn(\"sellers\", col(\"sellers\").cast(IntegerType())) \\\n",
    "    .withColumn(\"topsellers\", col(\"topsellers\").cast(IntegerType())) \\\n",
    "    .withColumn(\"topsellerratio\", col(\"topsellerratio\").cast(DecimalType(10, 2))) \\\n",
    "    .withColumn(\"femalesellersratio\", col(\"femalesellersratio\").cast(DecimalType(10, 2))) \\\n",
    "    .withColumn(\"topfemalesellersratio\", col(\"topfemalesellersratio\").cast(DecimalType(10, 2))) \\\n",
    "    .withColumn(\"femalesellers\", col(\"femalesellers\").cast(IntegerType())) \\\n",
    "    .withColumn(\"malesellers\", col(\"malesellers\").cast(IntegerType())) \\\n",
    "    .withColumn(\"topfemalesellers\", col(\"topfemalesellers\").cast(IntegerType())) \\\n",
    "    .withColumn(\"topmalesellers\", col(\"topmalesellers\").cast(IntegerType())) \\\n",
    "    .withColumn(\"countrysoldratio\", col(\"countrysoldratio\").cast(DecimalType(10, 2))) \\\n",
    "    .withColumn(\"bestsoldratio\", col(\"bestsoldratio\").cast(DecimalType(10, 2))) \\\n",
    "    .withColumn(\"toptotalproductssold\", col(\"toptotalproductssold\").cast(IntegerType())) \\\n",
    "    .withColumn(\"totalproductssold\", col(\"totalproductssold\").cast(IntegerType())) \\\n",
    "    .withColumn(\"toptotalproductslisted\", col(\"toptotalproductslisted\").cast(IntegerType())) \\\n",
    "    .withColumn(\"totalproductslisted\", col(\"totalproductslisted\").cast(IntegerType())) \\\n",
    "    .withColumn(\"topmeanproductssold\", col(\"topmeanproductssold\").cast(DecimalType(10, 2))) \\\n",
    "    .withColumn(\"topmeanproductslisted\", col(\"topmeanproductslisted\").cast(DecimalType(10, 2))) \\\n",
    "    .withColumn(\"meanproductssold\", col(\"meanproductssold\").cast(DecimalType(10, 2))) \\\n",
    "    .withColumn(\"meanproductslisted\", col(\"meanproductslisted\").cast(DecimalType(10, 2))) \\\n",
    "    .withColumn(\"meanofflinedays\", col(\"meanofflinedays\").cast(DecimalType(10, 2))) \\\n",
    "    .withColumn(\"topmeanofflinedays\", col(\"topmeanofflinedays\").cast(DecimalType(10, 2))) \\\n",
    "    .withColumn(\"meanfollowers\", col(\"meanfollowers\").cast(DecimalType(10, 2))) \\\n",
    "    .withColumn(\"meanfollowing\", col(\"meanfollowing\").cast(DecimalType(10, 2))) \\\n",
    "    .withColumn(\"topmeanfollowers\", col(\"topmeanfollowers\").cast(DecimalType(10, 2))) \\\n",
    "    .withColumn(\"topmeanfollowing\", col(\"topmeanfollowing\").cast(DecimalType(10, 2)))\n",
    "\n",
    "countriesDF = countriesDF.withColumn(\"country\", initcap(col(\"country\")))\n",
    "\n",
    "\n",
    "# Calculating the ratio of top sellers to total sellers\n",
    "countriesDF = countriesDF.withColumn(\"top_seller_ratio\", \n",
    "                                        round(col(\"topsellers\") / col(\"sellers\"), 2))\n",
    "\n",
    "# countriesDF countries with a high ratio of female sellers\n",
    "countriesDF = countriesDF.withColumn(\"high_female_seller_ratio\", \n",
    "                                        when(col(\"femalesellersratio\") > 0.5, True).otherwise(False))\n",
    "\n",
    "# Adding a performance indicator based on the sold/listed ratio\n",
    "countriesDF = countriesDF.withColumn(\"performance_indicator\", \n",
    "                                        round(col(\"toptotalproductssold\") / (col(\"toptotalproductslisted\") + 1), 2))\n",
    "\n",
    "# Flag countries with exceptionally high performance\n",
    "performance_threshold = 0.8\n",
    "countriesDF = countriesDF.withColumn(\"high_performance\", \n",
    "                                        when(col(\"performance_indicator\") > performance_threshold, True).otherwise(False))\n",
    "\n",
    "countriesDF = countriesDF.withColumn(\"activity_level\",\n",
    "                                       when(col(\"meanofflinedays\") < 30, \"Highly Active\")\n",
    "                                       .when((col(\"meanofflinedays\") >= 30) & (col(\"meanofflinedays\") < 60), \"Moderately Active\")\n",
    "                                       .otherwise(\"Low Activity\"))\n",
    "\n",
    "\n",
    "countriesDF.write.format(\"delta\").mode(\"overwrite\").save(\"/mnt/delta/tables/silver/countries\")\n",
    "     "
   ]
  },
  {
   "cell_type": "code",
   "execution_count": 0,
   "metadata": {
    "application/vnd.databricks.v1+cell": {
     "cellMetadata": {
      "byteLimit": 2048000,
      "rowLimit": 10000
     },
     "inputWidgets": {},
     "nuid": "2b1a2bdb-2774-432d-8efb-d96bc8721877",
     "showTitle": false,
     "tableResultSettingsMap": {},
     "title": ""
    }
   },
   "outputs": [
    {
     "output_type": "display_data",
     "data": {
      "text/html": [
       "<style scoped>\n",
       "  .table-result-container {\n",
       "    max-height: 300px;\n",
       "    overflow: auto;\n",
       "  }\n",
       "  table, th, td {\n",
       "    border: 1px solid black;\n",
       "    border-collapse: collapse;\n",
       "  }\n",
       "  th, td {\n",
       "    padding: 5px;\n",
       "  }\n",
       "  th {\n",
       "    text-align: left;\n",
       "  }\n",
       "</style><div class='table-result-container'><table class='table-result'><thead style='background-color: white'><tr><th>path</th><th>name</th><th>size</th><th>modificationTime</th></tr></thead><tbody><tr><td>dbfs:/mnt/delta/tables/silver/countries/_delta_log/</td><td>_delta_log/</td><td>0</td><td>0</td></tr><tr><td>dbfs:/mnt/delta/tables/silver/countries/part-00000-5389c720-5db7-44e8-8e3f-6035edd4ca55-c000.snappy.parquet</td><td>part-00000-5389c720-5db7-44e8-8e3f-6035edd4ca55-c000.snappy.parquet</td><td>11687</td><td>1734295625000</td></tr></tbody></table></div>"
      ]
     },
     "metadata": {
      "application/vnd.databricks.v1+output": {
       "addedWidgets": {},
       "aggData": [],
       "aggError": "",
       "aggOverflow": false,
       "aggSchema": [],
       "aggSeriesLimitReached": false,
       "aggType": "",
       "arguments": {},
       "columnCustomDisplayInfos": {},
       "data": [
        [
         "dbfs:/mnt/delta/tables/silver/countries/_delta_log/",
         "_delta_log/",
         0,
         0
        ],
        [
         "dbfs:/mnt/delta/tables/silver/countries/part-00000-5389c720-5db7-44e8-8e3f-6035edd4ca55-c000.snappy.parquet",
         "part-00000-5389c720-5db7-44e8-8e3f-6035edd4ca55-c000.snappy.parquet",
         11687,
         1734295625000
        ]
       ],
       "datasetInfos": [],
       "dbfsResultPath": null,
       "isJsonSchema": true,
       "metadata": {
        "isDbfsCommandResult": false
       },
       "overflow": false,
       "plotOptions": {
        "customPlotOptions": {},
        "displayType": "table",
        "pivotAggregation": null,
        "pivotColumns": null,
        "xColumns": null,
        "yColumns": null
       },
       "removedWidgets": [],
       "schema": [
        {
         "metadata": "{}",
         "name": "path",
         "type": "\"string\""
        },
        {
         "metadata": "{}",
         "name": "name",
         "type": "\"string\""
        },
        {
         "metadata": "{}",
         "name": "size",
         "type": "\"long\""
        },
        {
         "metadata": "{}",
         "name": "modificationTime",
         "type": "\"long\""
        }
       ],
       "type": "table"
      }
     },
     "output_type": "display_data"
    }
   ],
   "source": [
    "%fs ls \"/mnt/delta/tables/silver/countries\""
   ]
  },
  {
   "cell_type": "code",
   "execution_count": 0,
   "metadata": {
    "application/vnd.databricks.v1+cell": {
     "cellMetadata": {},
     "inputWidgets": {},
     "nuid": "c33d1e74-74b9-4648-b5fc-8f8eaee067ad",
     "showTitle": false,
     "tableResultSettingsMap": {},
     "title": ""
    }
   },
   "outputs": [],
   "source": []
  }
 ],
 "metadata": {
  "application/vnd.databricks.v1+notebook": {
   "computePreferences": null,
   "dashboards": [],
   "environmentMetadata": null,
   "language": "python",
   "notebookMetadata": {
    "mostRecentlyExecutedCommandWithImplicitDF": {
     "commandId": 993651517395102,
     "dataframes": [
      "_sqldf"
     ]
    },
    "pythonIndentUnit": 4
   },
   "notebookName": "Silver Layer",
   "widgets": {}
  }
 },
 "nbformat": 4,
 "nbformat_minor": 0
}
